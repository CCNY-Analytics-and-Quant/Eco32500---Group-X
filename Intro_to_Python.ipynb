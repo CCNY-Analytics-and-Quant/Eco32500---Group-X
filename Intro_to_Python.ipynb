{
 "cells": [
  {
   "cell_type": "code",
   "execution_count": null,
   "metadata": {},
   "outputs": [],
   "source": [
    "my_variable = 32432"
   ]
  },
  {
   "cell_type": "code",
   "execution_count": null,
   "metadata": {},
   "outputs": [],
   "source": [
    "type(my_variable)"
   ]
  },
  {
   "cell_type": "code",
   "execution_count": null,
   "metadata": {},
   "outputs": [],
   "source": [
    "type(32432 / 3)"
   ]
  },
  {
   "cell_type": "code",
   "execution_count": null,
   "metadata": {},
   "outputs": [],
   "source": [
    "type(\"here's my string\")\n",
    "my_string = \"lakdjreow390q43q09uf 032q3qe jflaj )#@($#@)( )\"\n",
    "\n",
    "\n"
   ]
  },
  {
   "cell_type": "code",
   "execution_count": null,
   "metadata": {},
   "outputs": [],
   "source": [
    "my_string[1:10]"
   ]
  },
  {
   "cell_type": "code",
   "execution_count": null,
   "metadata": {},
   "outputs": [],
   "source": [
    "\"\"\"allows\n",
    "me\n",
    "to use\n",
    "multiple lines\n",
    "in my\n",
    "string\n",
    "\"\"\""
   ]
  },
  {
   "cell_type": "code",
   "execution_count": null,
   "metadata": {},
   "outputs": [],
   "source": [
    "my_list = ['some string', my_string, 2034983209, my_variable]"
   ]
  },
  {
   "cell_type": "code",
   "execution_count": null,
   "metadata": {},
   "outputs": [],
   "source": [
    "my_list.append('a new string')\n",
    "phone_number = '19999999999'\n",
    "my_list.append(phone_number)"
   ]
  },
  {
   "cell_type": "code",
   "execution_count": null,
   "metadata": {},
   "outputs": [],
   "source": [
    "my_list[-1][1:4] = 845\n",
    "my_list[-1] = '1845999999'"
   ]
  },
  {
   "cell_type": "code",
   "execution_count": null,
   "metadata": {},
   "outputs": [],
   "source": [
    "my_list[1] = phone_number\n",
    "my_list"
   ]
  },
  {
   "cell_type": "code",
   "execution_count": null,
   "metadata": {},
   "outputs": [],
   "source": [
    "my_tuple = ('some string', my_string, 20349853209, my_variable)"
   ]
  },
  {
   "cell_type": "code",
   "execution_count": null,
   "metadata": {},
   "outputs": [],
   "source": [
    "my_tuple.append(phone_number)"
   ]
  },
  {
   "cell_type": "code",
   "execution_count": null,
   "metadata": {},
   "outputs": [],
   "source": [
    "my_tuple[1] = phone_number"
   ]
  },
  {
   "cell_type": "code",
   "execution_count": null,
   "metadata": {},
   "outputs": [],
   "source": [
    "my_tuple = ('some string', phone_number, 20349853209, my_variable, 'some string', phone_number)"
   ]
  },
  {
   "cell_type": "code",
   "execution_count": null,
   "metadata": {},
   "outputs": [],
   "source": [
    "set(my_tuple)"
   ]
  },
  {
   "cell_type": "code",
   "execution_count": null,
   "metadata": {},
   "outputs": [],
   "source": [
    "num_list = [2, 34, 90, 2, 3, 5, 1, 634, 643, 23, 90]\n",
    "set(num_list)"
   ]
  },
  {
   "cell_type": "markdown",
   "metadata": {},
   "source": [
    "[] -> list: mutable & iterable\n",
    "() -> tuple: immutable & iterable\n",
    "{} -> dictionary (dict): mutable & iterable"
   ]
  },
  {
   "cell_type": "code",
   "execution_count": null,
   "metadata": {},
   "outputs": [],
   "source": [
    "my_dict = {\"key\": \"value\"}"
   ]
  },
  {
   "cell_type": "code",
   "execution_count": null,
   "metadata": {},
   "outputs": [],
   "source": [
    "my_dict['key']"
   ]
  },
  {
   "cell_type": "code",
   "execution_count": null,
   "metadata": {},
   "outputs": [],
   "source": [
    "my_dict = {'name': {'first_name': 'John', 'last_name': 'Droescher'}}"
   ]
  },
  {
   "cell_type": "code",
   "execution_count": null,
   "metadata": {},
   "outputs": [],
   "source": [
    "my_dict['name']['last_name']"
   ]
  },
  {
   "cell_type": "code",
   "execution_count": null,
   "metadata": {},
   "outputs": [],
   "source": [
    "len(range(50))\n",
    "\n",
    "# for letter in my_string:\n",
    "#     print(letter)\n",
    "#     print(letter * 2)\n",
    "#     print(letter.upper())"
   ]
  },
  {
   "cell_type": "code",
   "execution_count": null,
   "metadata": {},
   "outputs": [],
   "source": [
    "# Define base variables\n",
    "bal = 10000\n",
    "deposit = 22500\n",
    "\n",
    "ret_age = 50\n",
    "cur_age = 21\n",
    "\n",
    "# Run loop for each year\n",
    "for year in range(ret_age - cur_age):\n",
    "  bal = bal + deposit\n",
    "\n",
    "# Output the results\n",
    "print(bal)"
   ]
  },
  {
   "cell_type": "code",
   "execution_count": null,
   "metadata": {},
   "outputs": [],
   "source": [
    "acct_bal = 0\n",
    "deposit = 22500\n",
    "cur_age = 22\n",
    "ret_age = 67\n",
    "salary = 60000\n",
    "matching = 0\n",
    "\n",
    "for year in range(cur_age, ret_age):\n",
    "    acct_bal = acct_bal + deposit\n",
    "\n",
    "acct_bal"
   ]
  },
  {
   "cell_type": "code",
   "execution_count": null,
   "metadata": {},
   "outputs": [],
   "source": [
    "%%timeit\n",
    "acct_bal = 0\n",
    "deposit = 22500\n",
    "cur_age = 22\n",
    "ret_age = 67\n",
    "salary = 60000\n",
    "matching = salary * 0.05\n",
    "\n",
    "for year in range(cur_age, ret_age):\n",
    "    acct_bal = acct_bal + deposit + matching"
   ]
  },
  {
   "cell_type": "code",
   "execution_count": 1,
   "metadata": {},
   "outputs": [
    {
     "name": "stdin",
     "output_type": "stream",
     "text": [
      "What is your current account balance?  1000\n",
      "How much will you contribute every year?  1200\n"
     ]
    },
    {
     "data": {
      "text/plain": [
       "305662.10330347443"
      ]
     },
     "execution_count": 1,
     "metadata": {},
     "output_type": "execute_result"
    }
   ],
   "source": [
    "acct_bal = int(input('What is your current account balance? '))\n",
    "deposit = int(input('How much will you contribute every year? '))\n",
    "cur_age = 22\n",
    "ret_age = 67\n",
    "\n",
    "salary = 60000\n",
    "rf_rate = 0.025\n",
    "match_rate = 0.05\n",
    "matching = 0\n",
    "\n",
    "for year in range(cur_age, ret_age):\n",
    "    salary *= 1 + rf_rate\n",
    "    matching = salary * match_rate\n",
    "    acct_bal += deposit + matching\n",
    "\n",
    "acct_bal"
   ]
  },
  {
   "cell_type": "code",
   "execution_count": 2,
   "metadata": {},
   "outputs": [
    {
     "name": "stdout",
     "output_type": "stream",
     "text": [
      "100774.91107785924\n"
     ]
    }
   ],
   "source": [
    "salary = 60000\n",
    "acct_bal = 0\n",
    "\n",
    "while salary < 100000:\n",
    "    salary *= 1 + rf_rate\n",
    "    matching = salary * match_rate\n",
    "    acct_bal += deposit + matching\n",
    "    \n",
    "print(salary)"
   ]
  },
  {
   "cell_type": "markdown",
   "metadata": {},
   "source": [
    "Homework:\n",
    "1) Convert variables to dynamic inputs\n",
    "2) Add investment returns (assume 14% annual return) to both loops\n",
    "3) For While loop  \n",
    "    3a) estimate desired retirement balance  \n",
    "    3b) calculate what age you can retire at  \n",
    "    "
   ]
  },
  {
   "cell_type": "code",
   "execution_count": null,
   "metadata": {},
   "outputs": [],
   "source": []
  }
 ],
 "metadata": {
  "kernelspec": {
   "display_name": "Python 3 (ipykernel)",
   "language": "python",
   "name": "python3"
  },
  "language_info": {
   "codemirror_mode": {
    "name": "ipython",
    "version": 3
   },
   "file_extension": ".py",
   "mimetype": "text/x-python",
   "name": "python",
   "nbconvert_exporter": "python",
   "pygments_lexer": "ipython3",
   "version": "3.9.7"
  }
 },
 "nbformat": 4,
 "nbformat_minor": 4
}
